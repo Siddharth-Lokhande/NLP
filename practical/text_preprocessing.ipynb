{
  "nbformat": 4,
  "nbformat_minor": 0,
  "metadata": {
    "colab": {
      "provenance": [],
      "authorship_tag": "ABX9TyNXVPOqhvjT+2qTBWr1hSFl",
      "include_colab_link": true
    },
    "kernelspec": {
      "name": "python3",
      "display_name": "Python 3"
    },
    "language_info": {
      "name": "python"
    }
  },
  "cells": [
    {
      "cell_type": "markdown",
      "metadata": {
        "id": "view-in-github",
        "colab_type": "text"
      },
      "source": [
        "<a href=\"https://colab.research.google.com/github/Siddharth-Lokhande/NLP/blob/main/practical/nlp_practical.ipynb\" target=\"_parent\"><img src=\"https://colab.research.google.com/assets/colab-badge.svg\" alt=\"Open In Colab\"/></a>"
      ]
    },
    {
      "cell_type": "code",
      "execution_count": 46,
      "metadata": {
        "colab": {
          "base_uri": "https://localhost:8080/"
        },
        "id": "VTbk1b4bA8Y8",
        "outputId": "a9c5d9a3-9c0d-436c-93fc-853746491960"
      },
      "outputs": [
        {
          "output_type": "stream",
          "name": "stderr",
          "text": [
            "[nltk_data] Downloading package punkt_tab to /root/nltk_data...\n",
            "[nltk_data]   Package punkt_tab is already up-to-date!\n"
          ]
        }
      ],
      "source": [
        "import nltk\n",
        "nltk.download('punkt_tab')\n",
        "from nltk.tokenize import word_tokenize"
      ]
    },
    {
      "cell_type": "code",
      "source": [
        "corpus=\"\"\"Hello welcome to siddharth nlp tut.Please do watch entire course \"\"\""
      ],
      "metadata": {
        "id": "KeU8OhJTA_ZQ"
      },
      "execution_count": 47,
      "outputs": []
    },
    {
      "cell_type": "code",
      "source": [
        "corpus"
      ],
      "metadata": {
        "colab": {
          "base_uri": "https://localhost:8080/",
          "height": 35
        },
        "id": "k4eblNAJBY8f",
        "outputId": "c4b302a0-6663-4ca8-8d74-f539d00c8d61"
      },
      "execution_count": 48,
      "outputs": [
        {
          "output_type": "execute_result",
          "data": {
            "text/plain": [
              "'Hello welcome to siddharth nlp tut.Please do watch entire course '"
            ],
            "application/vnd.google.colaboratory.intrinsic+json": {
              "type": "string"
            }
          },
          "metadata": {},
          "execution_count": 48
        }
      ]
    },
    {
      "cell_type": "markdown",
      "source": [
        "sentence to paragraphs\n"
      ],
      "metadata": {
        "id": "yw6HN38vK64Y"
      }
    },
    {
      "cell_type": "code",
      "source": [
        "from nltk.tokenize import sent_tokenize"
      ],
      "metadata": {
        "id": "IEeEFYO9Baph"
      },
      "execution_count": 49,
      "outputs": []
    },
    {
      "cell_type": "code",
      "source": [
        "documents=sent_tokenize(corpus)"
      ],
      "metadata": {
        "id": "ohViywZ3BusR"
      },
      "execution_count": 50,
      "outputs": []
    },
    {
      "cell_type": "code",
      "source": [
        "type(documents)"
      ],
      "metadata": {
        "id": "YzvsqA-nBxvW",
        "colab": {
          "base_uri": "https://localhost:8080/"
        },
        "outputId": "3fb70e2b-8583-4ec9-d9eb-3dcd872c874c"
      },
      "execution_count": 51,
      "outputs": [
        {
          "output_type": "execute_result",
          "data": {
            "text/plain": [
              "list"
            ]
          },
          "metadata": {},
          "execution_count": 51
        }
      ]
    },
    {
      "cell_type": "markdown",
      "source": [
        "paragraph-->words  \n",
        "sentence--> words\n"
      ],
      "metadata": {
        "id": "XUSIndcjLzYQ"
      }
    },
    {
      "cell_type": "code",
      "source": [
        "word_tokenize(corpus)"
      ],
      "metadata": {
        "colab": {
          "base_uri": "https://localhost:8080/"
        },
        "id": "-TPuvfkOL8Go",
        "outputId": "d7cf24fa-f401-41e4-e9b6-58e10d818d33"
      },
      "execution_count": 52,
      "outputs": [
        {
          "output_type": "execute_result",
          "data": {
            "text/plain": [
              "['Hello',\n",
              " 'welcome',\n",
              " 'to',\n",
              " 'siddharth',\n",
              " 'nlp',\n",
              " 'tut.Please',\n",
              " 'do',\n",
              " 'watch',\n",
              " 'entire',\n",
              " 'course']"
            ]
          },
          "metadata": {},
          "execution_count": 52
        }
      ]
    },
    {
      "cell_type": "code",
      "source": [
        "for sentence in documents:\n",
        "  print(word_tokenize(sentence))"
      ],
      "metadata": {
        "colab": {
          "base_uri": "https://localhost:8080/"
        },
        "id": "AnLD0SqdMD_F",
        "outputId": "470cb812-f31f-4592-fe1b-34f14e1b1d3e"
      },
      "execution_count": 53,
      "outputs": [
        {
          "output_type": "stream",
          "name": "stdout",
          "text": [
            "['Hello', 'welcome', 'to', 'siddharth', 'nlp', 'tut.Please', 'do', 'watch', 'entire', 'course']\n"
          ]
        }
      ]
    },
    {
      "cell_type": "markdown",
      "source": [
        "# **porter stemmer**"
      ],
      "metadata": {
        "id": "oQaxBYKLPyGN"
      }
    },
    {
      "cell_type": "code",
      "source": [
        "from nltk.stem import PorterStemmer"
      ],
      "metadata": {
        "id": "E_IKhLnhP4RB"
      },
      "execution_count": 54,
      "outputs": []
    },
    {
      "cell_type": "code",
      "source": [
        "words=[\"eating\",\"eats\",\"eaten\",\"writes\",\"written\",\"writing\"]"
      ],
      "metadata": {
        "id": "nSKmaLg8XbHj"
      },
      "execution_count": 55,
      "outputs": []
    },
    {
      "cell_type": "code",
      "source": [
        "stemming=PorterStemmer()"
      ],
      "metadata": {
        "id": "jkO-1lYoP7F6"
      },
      "execution_count": 56,
      "outputs": []
    },
    {
      "cell_type": "code",
      "source": [
        "for word in words:\n",
        "  print(word+\" ----> \"+stemming.stem(word))"
      ],
      "metadata": {
        "colab": {
          "base_uri": "https://localhost:8080/"
        },
        "id": "BnttJ2bJQCZ5",
        "outputId": "ac0d0581-e0ba-41d4-8e9e-f37acdc6abd6"
      },
      "execution_count": 57,
      "outputs": [
        {
          "output_type": "stream",
          "name": "stdout",
          "text": [
            "eating ----> eat\n",
            "eats ----> eat\n",
            "eaten ----> eaten\n",
            "writes ----> write\n",
            "written ----> written\n",
            "writing ----> write\n"
          ]
        }
      ]
    },
    {
      "cell_type": "markdown",
      "source": [
        "# **Regexpstemmer**"
      ],
      "metadata": {
        "id": "Osc2Vn3uZDxI"
      }
    },
    {
      "cell_type": "code",
      "source": [
        "from nltk.stem import RegexpStemmer"
      ],
      "metadata": {
        "id": "8LwM2vQdZJA_"
      },
      "execution_count": 58,
      "outputs": []
    },
    {
      "cell_type": "code",
      "source": [
        "reg_stemmer=RegexpStemmer('ing$|s$|e$|able$',min=4)"
      ],
      "metadata": {
        "id": "woCvwMitZVRa"
      },
      "execution_count": 59,
      "outputs": []
    },
    {
      "cell_type": "code",
      "source": [
        "reg_stemmer.stem('eating')"
      ],
      "metadata": {
        "colab": {
          "base_uri": "https://localhost:8080/",
          "height": 35
        },
        "id": "cimvc-79awzS",
        "outputId": "87cfb121-2bea-4baf-9c89-6b2435a6fc3c"
      },
      "execution_count": 60,
      "outputs": [
        {
          "output_type": "execute_result",
          "data": {
            "text/plain": [
              "'eat'"
            ],
            "application/vnd.google.colaboratory.intrinsic+json": {
              "type": "string"
            }
          },
          "metadata": {},
          "execution_count": 60
        }
      ]
    },
    {
      "cell_type": "code",
      "source": [
        "reg_stemmer.stem('adjustable')"
      ],
      "metadata": {
        "colab": {
          "base_uri": "https://localhost:8080/",
          "height": 35
        },
        "id": "OdjXOWy-a0KZ",
        "outputId": "a9677dc2-ace8-449d-8627-fa83a9932f65"
      },
      "execution_count": 61,
      "outputs": [
        {
          "output_type": "execute_result",
          "data": {
            "text/plain": [
              "'adjust'"
            ],
            "application/vnd.google.colaboratory.intrinsic+json": {
              "type": "string"
            }
          },
          "metadata": {},
          "execution_count": 61
        }
      ]
    },
    {
      "cell_type": "markdown",
      "source": [
        "# **Snowball stemmerbold**"
      ],
      "metadata": {
        "id": "H_rAgw50bKlr"
      }
    },
    {
      "cell_type": "code",
      "source": [
        "from nltk.stem import SnowballStemmer"
      ],
      "metadata": {
        "id": "BcdEmRImbOCc"
      },
      "execution_count": 62,
      "outputs": []
    },
    {
      "cell_type": "code",
      "source": [
        "snowball=SnowballStemmer(language='english')"
      ],
      "metadata": {
        "id": "qfCp3FfLbc6w"
      },
      "execution_count": 63,
      "outputs": []
    },
    {
      "cell_type": "code",
      "source": [
        "for word  in words:\n",
        "  print(word+\" ----> \"+snowball.stem(word))"
      ],
      "metadata": {
        "colab": {
          "base_uri": "https://localhost:8080/"
        },
        "id": "MulZ9Su4bgM4",
        "outputId": "b396c291-bcdd-4297-b5e0-85636b8bfa42"
      },
      "execution_count": 64,
      "outputs": [
        {
          "output_type": "stream",
          "name": "stdout",
          "text": [
            "eating ----> eat\n",
            "eats ----> eat\n",
            "eaten ----> eaten\n",
            "writes ----> write\n",
            "written ----> written\n",
            "writing ----> write\n"
          ]
        }
      ]
    },
    {
      "cell_type": "code",
      "source": [
        "snowball.stem('done'+\"     \"+'fairly')"
      ],
      "metadata": {
        "colab": {
          "base_uri": "https://localhost:8080/",
          "height": 35
        },
        "id": "aw7xUZfabl_T",
        "outputId": "22d73d9f-2f2a-4023-d07c-2c0fef62b06c"
      },
      "execution_count": 65,
      "outputs": [
        {
          "output_type": "execute_result",
          "data": {
            "text/plain": [
              "'done     fair'"
            ],
            "application/vnd.google.colaboratory.intrinsic+json": {
              "type": "string"
            }
          },
          "metadata": {},
          "execution_count": 65
        }
      ]
    },
    {
      "cell_type": "markdown",
      "source": [
        "\n",
        "# **Wordnet Stemmer**"
      ],
      "metadata": {
        "id": "qmvoX_TfdIBZ"
      }
    },
    {
      "cell_type": "code",
      "source": [
        "import nltk\n",
        "nltk.download('wordnet')\n",
        "\n",
        "from nltk.stem import WordNetLemmatizer\n",
        "\n",
        "lemmatizer = WordNetLemmatizer()"
      ],
      "metadata": {
        "colab": {
          "base_uri": "https://localhost:8080/"
        },
        "id": "wEkJBOSTdPtn",
        "outputId": "961a9506-bc27-46e5-f1af-851250d45842"
      },
      "execution_count": 71,
      "outputs": [
        {
          "output_type": "stream",
          "name": "stderr",
          "text": [
            "[nltk_data] Downloading package wordnet to /root/nltk_data...\n"
          ]
        }
      ]
    },
    {
      "cell_type": "code",
      "source": [
        "lemmatizer=WordNetLemmatizer()"
      ],
      "metadata": {
        "id": "3nWxYpY9dbRo"
      },
      "execution_count": 67,
      "outputs": []
    },
    {
      "cell_type": "code",
      "source": [
        "'''\n",
        "Noun - n\n",
        "verb -v\n",
        "adjective -a\n",
        "adverb - r\n",
        "'''\n",
        "lemmatizer.lemmatize(\"going\",pos='v')"
      ],
      "metadata": {
        "colab": {
          "base_uri": "https://localhost:8080/",
          "height": 35
        },
        "id": "rFHLELaKd8gU",
        "outputId": "48703d8e-44a9-4c72-96f5-a99bc3270386"
      },
      "execution_count": 74,
      "outputs": [
        {
          "output_type": "execute_result",
          "data": {
            "text/plain": [
              "'go'"
            ],
            "application/vnd.google.colaboratory.intrinsic+json": {
              "type": "string"
            }
          },
          "metadata": {},
          "execution_count": 74
        }
      ]
    },
    {
      "cell_type": "code",
      "source": [
        "words=[\"eating\",\"eats\",\"eaten\",\"writes\",\"written\",\"writing\",\"programming\",\"goes\",\"gone\"]"
      ],
      "metadata": {
        "id": "-mEmvHybk5QX"
      },
      "execution_count": 80,
      "outputs": []
    },
    {
      "cell_type": "code",
      "source": [
        "for word in words:\n",
        "  print(word+\" ----> \"+lemmatizer.lemmatize(word,pos='v'))"
      ],
      "metadata": {
        "colab": {
          "base_uri": "https://localhost:8080/"
        },
        "id": "Lmpnk4uldeLG",
        "outputId": "ac4b2c32-f1f4-49be-af84-51ff8d484d93"
      },
      "execution_count": 84,
      "outputs": [
        {
          "output_type": "stream",
          "name": "stdout",
          "text": [
            "eating ----> eat\n",
            "eats ----> eat\n",
            "eaten ----> eat\n",
            "writes ----> write\n",
            "written ----> write\n",
            "writing ----> write\n",
            "programming ----> program\n",
            "goes ----> go\n",
            "gone ----> go\n"
          ]
        }
      ]
    }
  ]
}
